{
  "nbformat": 4,
  "nbformat_minor": 0,
  "metadata": {
    "colab": {
      "name": "mcmc.ipynb",
      "provenance": []
    },
    "kernelspec": {
      "name": "python3",
      "display_name": "Python 3"
    }
  },
  "cells": [
    {
      "cell_type": "markdown",
      "metadata": {
        "id": "8WLqj8eTfaPa",
        "colab_type": "text"
      },
      "source": [
        "# MCMC demo\n",
        "\n",
        "This demo shows how the Metropolis-Hastings algorithm \n",
        "with/without annealing can be used to sample from a \n",
        "mixture of 2 Gaussians if we can sample from a Gaussian \n",
        "proposal. \n",
        "\n",
        "You can play and see the effects of the proposal, the \n",
        "annealing and the cooling schedule. Try to define new \n",
        "proposals and target functions.\n",
        "\n",
        "**Author: Ruben Martinez-Cantin**"
      ]
    },
    {
      "cell_type": "code",
      "metadata": {
        "id": "OE80ijmiftyD",
        "colab_type": "code",
        "colab": {}
      },
      "source": [
        "import time\n",
        "import numpy as np\n",
        "import matplotlib.pylab as pl"
      ],
      "execution_count": 0,
      "outputs": []
    },
    {
      "cell_type": "markdown",
      "metadata": {
        "id": "f83G58TZgiJK",
        "colab_type": "text"
      },
      "source": [
        "First, we define the function that we want to sample from."
      ]
    },
    {
      "cell_type": "code",
      "metadata": {
        "id": "sb70DeeyfwiB",
        "colab_type": "code",
        "outputId": "96c79e83-ed86-4a3d-9cff-be96e0fb60d3",
        "colab": {
          "base_uri": "https://localhost:8080/",
          "height": 286
        }
      },
      "source": [
        "#Target distribution is a mixture of Gaussians.\n",
        "def fgaussian(x,sigma):\n",
        "    return np.exp(-0.5 * (x)**2 / sigma**2)/(np.sqrt(2*np.pi)*sigma)\n",
        "\n",
        "def fmixture(x):\n",
        "    sigma = 2      #  Standard deviation of the target components.\n",
        "    return 0.3*fgaussian(x,sigma) + 0.7*fgaussian(x-10,sigma)\n",
        "\n",
        "x_t = np.linspace(-10,20,1000)\n",
        "pl.plot(x_t,fmixture(x_t),'k',linewidth=2)"
      ],
      "execution_count": 0,
      "outputs": [
        {
          "output_type": "execute_result",
          "data": {
            "text/plain": [
              "[<matplotlib.lines.Line2D at 0x7fc5c9574748>]"
            ]
          },
          "metadata": {
            "tags": []
          },
          "execution_count": 2
        },
        {
          "output_type": "display_data",
          "data": {
            "image/png": "[encoded data removed]",
            "text/plain": [
              "<Figure size 432x288 with 1 Axes>"
            ]
          },
          "metadata": {
            "tags": []
          }
        }
      ]
    },
    {
      "cell_type": "markdown",
      "metadata": {
        "id": "9771cKqchDSE",
        "colab_type": "text"
      },
      "source": [
        "Now, we define the _Metropolis-Hasting_ function to perform a step of the Markov chain. We also need to define the proposal.\n",
        "\n",
        "In this case, we let the caller define an anealing temperature. Then, the step function generalizes to the _simulated anealing_ method."
      ]
    },
    {
      "cell_type": "code",
      "metadata": {
        "id": "ipjxRRLpfzmC",
        "colab_type": "code",
        "colab": {}
      },
      "source": [
        "# Metropolis-Hasting\n",
        "###################################################################\n",
        "# MH proposal is a zero mean Gaussian.\n",
        "def sample_proposal(sigma):\n",
        "    return sigma * np.random.randn(1)\n",
        "\n",
        "def mh_step(x,sigma_prop,Temp=1.0):\n",
        "    # We sample a move. This is the dynamics/Markov chain part.\n",
        "    z = sample_proposal(sigma_prop)\n",
        "    alpha1 = fmixture(x+z)  # Prob. of the sample after the move\n",
        "    alpha2 = fmixture(x)    # Prob. of the sample before the move\n",
        "\n",
        "    # This is the \"likelihood\" of the jump. If the probability of the new \n",
        "    # location is higher alpha > 1, if it is lower alpha < 1.\n",
        "    alpha = (alpha1/alpha2)\n",
        "\n",
        "    if Temp!=1.0:\n",
        "        alpha = alpha**(1.0/Temp)      # Use annealing if required.\n",
        "    \n",
        "    # We randomize the acceptance. Sometimes we even have to accept unlikely events.\n",
        "    u = np.random.rand(1)\n",
        "    if (u < alpha):\n",
        "        return x + z               # Accept jump\n",
        "    else:\n",
        "        return x                   # Reject jump"
      ],
      "execution_count": 0,
      "outputs": []
    },
    {
      "cell_type": "markdown",
      "metadata": {
        "id": "PSQ4fGRfhXtS",
        "colab_type": "text"
      },
      "source": [
        "We do the same for the _slice sampling_ algorithm. In the slice sampling algorithm, we _cut_ the target function at a random height. Then, we combine a _step out_ and a _shrink_ phases to compute the width of the slice. Finally, the sample is generated from the width of the slice. \n",
        "\n",
        "In this case, the standard deviation of the proposal $\\sigma$ is used as a step out coefficient. A large coefficient means a faster computation of the slice, but with lower resolution, requiring more time _shrinking_"
      ]
    },
    {
      "cell_type": "code",
      "metadata": {
        "id": "PK0cACUbf6ha",
        "colab_type": "code",
        "colab": {}
      },
      "source": [
        "# Slice sampling\n",
        "###################################################################\n",
        "def sweep(f,x,y,w):\n",
        "    #step out\n",
        "    r = np.random.rand(1)\n",
        "    xl = x - r*w\n",
        "    xr = x + (1-r)*w\n",
        "    \n",
        "    while f(xl)>y: xl -= w;\n",
        "    while f(xr)>y: xr += w;\n",
        "\n",
        "    #shrink\n",
        "    modified = True\n",
        "    while modified:\n",
        "        x_new = (xr-xl) * np.random.rand(1) + xl\n",
        "        if f(x_new) < y:\n",
        "            if x_new > x:\n",
        "                xr = x_new\n",
        "            elif x_new < x:\n",
        "                xl = x_new\n",
        "            else:\n",
        "                print(\"Error. Slice colapsed!\")\n",
        "                modified=False\n",
        "        else:\n",
        "            modified=False\n",
        "\n",
        "    return x_new, xl, xr\n",
        "\n",
        "def slice_step(x,sigma_prop):\n",
        "    y_max = fmixture(x)\n",
        "    u = np.random.rand(1)*y_max\n",
        "    x_new,xl,xr = sweep(fmixture,x,u,sigma_prop)\n",
        "    return x_new"
      ],
      "execution_count": 0,
      "outputs": []
    },
    {
      "cell_type": "markdown",
      "metadata": {
        "id": "F8IRw0RFht9J",
        "colab_type": "text"
      },
      "source": [
        "Finally, we generate the MCMC trajectory based on the corresponding step functions. The _simulated annealing_ algorithm can be computed with a MH step function and a temperature."
      ]
    },
    {
      "cell_type": "code",
      "metadata": {
        "id": "1hudHdKzf-aL",
        "colab_type": "code",
        "colab": {}
      },
      "source": [
        "# Main function\n",
        "def mcmc(sampler,n_samples):\n",
        "    sigma_prop = 10         #  Standard deviation of the Gaussian proposal.\n",
        "    T_i = 1.0               #  Initial temperature (only used for annealing)\n",
        "    CS = 0.995              #  Cooling schedule (only used for annealing)\n",
        "    \n",
        "    x = np.zeros((n_samples,1))  #  Markov chain (unknowns).\n",
        "    x[0] = 20*np.random.rand(1)       #  Initial point of the Markov Chain.\n",
        "\n",
        "    for i in range(1,n_samples):\n",
        "        if sampler == 'mh':\n",
        "            # Metropolis-Hastings algorithm\n",
        "            x[i] = mh_step(x[i-1],sigma_prop)\n",
        "        elif sampler == 'sa':\n",
        "            # Simulated annealing algorithm. Version of MH for optimization.\n",
        "            x[i] = mh_step(x[i-1],sigma_prop,T_i)\n",
        "            T_i = T_i*CS    # Adjust the cooling schedule.\n",
        "        elif sampler == 'slice':\n",
        "            # Slice sampling\n",
        "            x[i] = slice_step(x[i-1],sigma_prop)\n",
        "        else:\n",
        "            print(\"Error. Sampler not supported.\")\n",
        "            break\n",
        "        \n",
        "    return x"
      ],
      "execution_count": 0,
      "outputs": []
    },
    {
      "cell_type": "markdown",
      "metadata": {
        "id": "jhGkzSa1iY2i",
        "colab_type": "text"
      },
      "source": [
        "We plot the MCMC samples as an histogram."
      ]
    },
    {
      "cell_type": "code",
      "metadata": {
        "id": "_MBo8dSNa2a0",
        "colab_type": "code",
        "colab": {}
      },
      "source": [
        "def plot_all(x, spIndex , mcIndex ):\n",
        "    N_bins = 50               #  Number of bins in the histogram.\n",
        "    pl.subplot(spIndex)\n",
        "    x_t = np.linspace(-10,20,1000)\n",
        "    n, bins, patches = pl.hist(x[0:mcIndex], N_bins,\n",
        "                               density=True, facecolor='green', alpha=0.75)\n",
        "    pl.plot(x_t,fmixture(x_t),'k',linewidth=2)\n",
        "    pl.axis([-10, 20, 0, 0.15])\n",
        "    plot_name = 'Iteration = %d' % mcIndex\n",
        "    pl.title(plot_name)"
      ],
      "execution_count": 0,
      "outputs": []
    },
    {
      "cell_type": "markdown",
      "metadata": {
        "id": "Sliuo_Arie1p",
        "colab_type": "text"
      },
      "source": [
        "Main program. \n",
        "\n",
        "We plot 4 snapshots of the trajectory with 100, 500, 1000 and all the samples (5000).\n",
        "\n",
        "You can play with the different samplers, the number of iterations, the proposal or even the target function.\n",
        "\n",
        "\n",
        "\n",
        "*   What happens for small/large values of $\\sigma$? \n",
        "*   Is it the same for all samplers?\n",
        "*   What happens if you add a narrow peak to the function?\n",
        "*   Which algorithm is faster? Is it problem dependent?\n",
        "*   What is the purpose of the cooling schedule in the Simulated Annealing?\n",
        "*   How does the acceptance work for the MH algorithm? Are there some case where we always accept the new position?\n",
        "*   What happens to the slice sampling algorithm if we change $\\sigma$?"
      ]
    },
    {
      "cell_type": "code",
      "metadata": {
        "id": "2nfWvx6UgZOc",
        "colab_type": "code",
        "outputId": "b5af87a3-7cb5-46dc-8bea-afc54a44fd8a",
        "colab": {
          "base_uri": "https://localhost:8080/",
          "height": 430
        }
      },
      "source": [
        "N = 5000                #  Number of iterations/samples.\n",
        "sampler_name = 'mh'\n",
        "begin = time.clock()\n",
        "particles = mcmc(sampler_name,N)\n",
        "\n",
        "print(particles)\n",
        "print(time.clock()-begin)\n",
        "\n",
        "plot_all(particles,221,N//50)\n",
        "plot_all(particles,222,N//10)\n",
        "plot_all(particles,223,N//5)\n",
        "plot_all(particles,224,N)\n",
        "\n",
        "pl.suptitle(sampler_name+' sampler')\n",
        "pl.show()"
      ],
      "execution_count": 0,
      "outputs": [
        {
          "output_type": "stream",
          "text": [
            "[[14.01407369]\n",
            " [14.25987211]\n",
            " [14.25987211]\n",
            " ...\n",
            " [11.07326345]\n",
            " [11.07326345]\n",
            " [ 8.98548283]]\n",
            "0.198893\n"
          ],
          "name": "stdout"
        },
        {
          "output_type": "display_data",
          "data": {
            "image/png": "[encoded data removed]",
            "text/plain": [
              "<Figure size 432x288 with 4 Axes>"
            ]
          },
          "metadata": {
            "tags": []
          }
        }
      ]
    }
  ]
}